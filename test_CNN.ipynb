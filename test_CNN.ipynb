{
 "cells": [
  {
   "cell_type": "code",
   "execution_count": 65,
   "id": "ed1f251f",
   "metadata": {},
   "outputs": [],
   "source": [
    "from tensorflow import keras\n",
    "import numpy as np\n",
    "\n",
    "from ipynb.fs.full.utils_NN import*\n",
    "\n",
    "new_model = keras.models.load_model('redes/morlet_dist-5.05_filters-3.h5')"
   ]
  },
  {
   "cell_type": "code",
   "execution_count": 66,
   "id": "8299a20f",
   "metadata": {},
   "outputs": [],
   "source": [
    "#new_model.summary()"
   ]
  },
  {
   "cell_type": "code",
   "execution_count": 69,
   "id": "a767d605",
   "metadata": {},
   "outputs": [],
   "source": [
    "X_val_filenames = np.load('data/timeFrecuency_names_0.1/val_list_dist_0.1.npy')\n",
    "y_val = np.load('data/timeFrecuency_names_0.1/val_labels_dist_0.1.npy')\n",
    "\n",
    "batch_size = 32\n",
    "\n",
    "my_validation_batch_generator = My_Custom_Generator(X_val_filenames, y_val, batch_size)"
   ]
  },
  {
   "cell_type": "code",
   "execution_count": 70,
   "id": "943e7e5f",
   "metadata": {},
   "outputs": [
    {
     "name": "stdout",
     "output_type": "stream",
     "text": [
      "38/38 [==============================] - 11s 278ms/step - loss: 7.1710e-04 - accuracy: 1.0000 - false_positives_8: 0.0000e+00\n"
     ]
    },
    {
     "data": {
      "text/plain": [
       "[0.0007171001634560525, 1.0, 0.0]"
      ]
     },
     "execution_count": 70,
     "metadata": {},
     "output_type": "execute_result"
    }
   ],
   "source": [
    "new_model.evaluate(my_validation_batch_generator)"
   ]
  },
  {
   "cell_type": "code",
   "execution_count": null,
   "id": "33e78c62",
   "metadata": {},
   "outputs": [],
   "source": []
  }
 ],
 "metadata": {
  "kernelspec": {
   "display_name": "Python 3 (ipykernel)",
   "language": "python",
   "name": "python3"
  },
  "language_info": {
   "codemirror_mode": {
    "name": "ipython",
    "version": 3
   },
   "file_extension": ".py",
   "mimetype": "text/x-python",
   "name": "python",
   "nbconvert_exporter": "python",
   "pygments_lexer": "ipython3",
   "version": "3.10.9"
  }
 },
 "nbformat": 4,
 "nbformat_minor": 5
}
