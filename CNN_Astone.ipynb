{
 "cells": [
  {
   "cell_type": "raw",
   "id": "0aa92c1e-7fea-4e91-ae44-bb1b60032d16",
   "metadata": {},
   "source": [
    "'''\n",
    "Red de Astone 2018\n",
    "\n",
    "    Se propone una red 2D para clasificar entre signal y ruido\n",
    "    \n",
    "    Input:\n",
    "\n",
    "        2D : mapas tiempo-frecuencia de 2s segundos por medio de discrete wavelet transforms\n",
    "    \n",
    "'''"
   ]
  },
  {
   "cell_type": "code",
   "execution_count": null,
   "id": "cdd2168e",
   "metadata": {
    "tags": []
   },
   "outputs": [],
   "source": [
    "#importing libraries\n",
    "import keras\n",
    "from keras.models import Sequential\n",
    "from keras.layers.core import Dense, Dropout, Activation, Flatten\n",
    "from keras.layers import Conv2D, MaxPool2D\n",
    "from keras.optimizers import Adam, SGD\n",
    "\n",
    "from sklearn import preprocessing\n",
    "from sklearn.model_selection import train_test_split\n",
    "import tensorflow.compat.v2 as tf\n",
    "\n",
    "import numpy as np \n",
    "\n",
    "from ipynb.fs.full.utils_NN import*\n"
   ]
  },
  {
   "cell_type": "code",
   "execution_count": null,
   "id": "46feca56-3613-44e2-a72d-c14428c02c8f",
   "metadata": {
    "tags": []
   },
   "outputs": [],
   "source": [
    "\n",
    "directory = 'data/timeFrecuency'\n",
    "dist = '10'\n",
    "sep = ','\n",
    "\n",
    "classification = 1 # 0 = binary, 1 = multiclass\n"
   ]
  },
  {
   "cell_type": "code",
   "execution_count": null,
   "id": "e7320079-a428-4163-b6fc-9dbe3de7e49c",
   "metadata": {},
   "outputs": [],
   "source": [
    "\n",
    "timeInd = 256\n",
    "levels = 64\n",
    "            \n",
    "channels = 1\n",
    "\n",
    "filters = [8,8,8,8,8,8]\n",
    "\n",
    "dropout = 1 # 0 = soft-dropout, 1 = dropout\n",
    "p = 0.3\n",
    "a,b = 2,5\n",
    "\n",
    "batch_size = 50"
   ]
  },
  {
   "cell_type": "code",
   "execution_count": null,
   "id": "8f3932de-883c-4a60-94d5-9d03396e099c",
   "metadata": {},
   "outputs": [],
   "source": [
    "\n",
    "from keras.models import Model\n",
    "from keras.layers import Input, Conv2D, MaxPool2D, BatchNormalization, Concatenate\n",
    "\n",
    "from tensorflow.keras.utils import plot_model\n",
    "\n",
    "inputLayer = Input((timeInd, levels,channels))\n",
    "\n",
    "CONV = inputLayer\n",
    "\n",
    "for i in range( len(filters) ):\n",
    "    \n",
    "    CONV = Conv2D(filters=filters[i], kernel_size=(3,3), padding='same', activation='relu')(CONV)\n",
    "    CONV = MaxPool2D(pool_size=(2,2), strides=2)(CONV)\n",
    "    \n",
    "    if dropout:\n",
    "        CONV = Dropout(p)(CONV)\n",
    "    else:\n",
    "        CONV = Soft_Dropout(a,b)(CONV)\n",
    "        \n",
    "        \n",
    "DENSE = Flatten()(CONV)\n",
    "\n",
    "if not classification:\n",
    "    out = Dense(units=1, activation='sigmoid')(DENSE)\n",
    "else:\n",
    "    out = Dense(units=2, activation='softmax')(DENSE)\n",
    "    \n",
    "model_astone = Model(inputs=[inputLayer], outputs=[out], name = \"model_astone\")\n",
    "\n",
    "#keras.utils.plot_model(model_astone, show_shapes=True)\n",
    "\n",
    "model_astone.compile(optimizer=Adam(learning_rate=0.001), loss='categorical_crossentropy', metrics=['accuracy',tf.keras.metrics.FalsePositives()])"
   ]
  },
  {
   "cell_type": "code",
   "execution_count": null,
   "id": "67876c61",
   "metadata": {},
   "outputs": [],
   "source": [
    "X_train_filenames = np.load(directory + '/names/dist_'+ dist + '/train_list_dist_' + dist +'.npy')\n",
    "y_train = np.load(directory + '/names/dist_'+ dist + '/train_labels_dist_' + dist +'.npy')\n",
    "                    \n",
    "X_val_filenames = np.load(directory + '/names/dist_'+ dist + '/val_list_dist_' + dist +'.npy')\n",
    "y_val = np.load(directory + '/names/dist_'+ dist + '/val_labels_dist_' + dist +'.npy')\n",
    "                    \n",
    "my_training_batch_generator = My_Custom_Generator(X_train_filenames, y_train, batch_size)\n",
    "my_validation_batch_generator = My_Custom_Generator(X_val_filenames, y_val, batch_size)"
   ]
  },
  {
   "cell_type": "code",
   "execution_count": null,
   "id": "fc5e7aca",
   "metadata": {
    "tags": []
   },
   "outputs": [],
   "source": [
    "early_stopping = EarlyStoppingTresh(monitor='val_loss', threshold=0.0001)\n",
    "history = model_astone.fit(my_training_batch_generator,\n",
    "                           steps_per_epoch = int( len(X_train_filenames) // batch_size),\n",
    "                           validation_data = my_validation_batch_generator,\n",
    "                           validation_steps = int( len(X_val_filenames) // batch_size),\n",
    "                           epochs = 100,\n",
    "                           #batch_size = 50,\n",
    "                           #callbacks=[early_stopping],\n",
    "                           verbose=1)"
   ]
  },
  {
   "cell_type": "code",
   "execution_count": null,
   "id": "79ea71fe",
   "metadata": {},
   "outputs": [],
   "source": [
    "#graficar las metricas\n",
    "graph_metrics(history,\n",
    "              'Melspectrogram\\n Metrics dist-' \n",
    "              + dist \n",
    "              + ' filters-' \n",
    "              + str(len(filters))\n",
    "              + 'val acc-'\n",
    "              + str(history.history['val_accuracy'][-1]),\n",
    "             'plots/mor_'+dist+'-kpc_'+str(len(filters))+'-capas.png'\n",
    "             )\n"
   ]
  }
 ],
 "metadata": {
  "kernelspec": {
   "display_name": "Python 3 (ipykernel)",
   "language": "python",
   "name": "python3"
  },
  "language_info": {
   "codemirror_mode": {
    "name": "ipython",
    "version": 3
   },
   "file_extension": ".py",
   "mimetype": "text/x-python",
   "name": "python",
   "nbconvert_exporter": "python",
   "pygments_lexer": "ipython3",
   "version": "3.10.9"
  }
 },
 "nbformat": 4,
 "nbformat_minor": 5
}
